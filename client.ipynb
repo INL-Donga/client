{
 "cells": [
  {
   "cell_type": "code",
   "execution_count": 4,
   "id": "a7fa8b1f-8929-4e0d-b8d6-22a651805755",
   "metadata": {},
   "outputs": [
    {
     "name": "stdout",
     "output_type": "stream",
     "text": [
      "Collecting matplotlib\n",
      "  Downloading matplotlib-3.9.2-cp311-cp311-manylinux_2_17_x86_64.manylinux2014_x86_64.whl.metadata (11 kB)\n",
      "Collecting contourpy>=1.0.1 (from matplotlib)\n",
      "  Downloading contourpy-1.3.0-cp311-cp311-manylinux_2_17_x86_64.manylinux2014_x86_64.whl.metadata (5.4 kB)\n",
      "Collecting cycler>=0.10 (from matplotlib)\n",
      "  Downloading cycler-0.12.1-py3-none-any.whl.metadata (3.8 kB)\n",
      "Collecting fonttools>=4.22.0 (from matplotlib)\n",
      "  Downloading fonttools-4.54.1-cp311-cp311-manylinux_2_17_x86_64.manylinux2014_x86_64.whl.metadata (163 kB)\n",
      "Collecting kiwisolver>=1.3.1 (from matplotlib)\n",
      "  Downloading kiwisolver-1.4.7-cp311-cp311-manylinux_2_17_x86_64.manylinux2014_x86_64.whl.metadata (6.3 kB)\n",
      "Requirement already satisfied: numpy>=1.23 in /opt/conda/lib/python3.11/site-packages (from matplotlib) (2.1.1)\n",
      "Requirement already satisfied: packaging>=20.0 in /opt/conda/lib/python3.11/site-packages (from matplotlib) (24.1)\n",
      "Requirement already satisfied: pillow>=8 in /opt/conda/lib/python3.11/site-packages (from matplotlib) (10.2.0)\n",
      "Collecting pyparsing>=2.3.1 (from matplotlib)\n",
      "  Downloading pyparsing-3.1.4-py3-none-any.whl.metadata (5.1 kB)\n",
      "Requirement already satisfied: python-dateutil>=2.7 in /opt/conda/lib/python3.11/site-packages (from matplotlib) (2.9.0)\n",
      "Requirement already satisfied: six>=1.5 in /opt/conda/lib/python3.11/site-packages (from python-dateutil>=2.7->matplotlib) (1.16.0)\n",
      "Downloading matplotlib-3.9.2-cp311-cp311-manylinux_2_17_x86_64.manylinux2014_x86_64.whl (8.3 MB)\n",
      "\u001b[2K   \u001b[90m━━━━━━━━━━━━━━━━━━━━━━━━━━━━━━━━━━━━━━━━\u001b[0m \u001b[32m8.3/8.3 MB\u001b[0m \u001b[31m20.0 MB/s\u001b[0m eta \u001b[36m0:00:00\u001b[0ma \u001b[36m0:00:01\u001b[0m\n",
      "\u001b[?25hDownloading contourpy-1.3.0-cp311-cp311-manylinux_2_17_x86_64.manylinux2014_x86_64.whl (323 kB)\n",
      "Downloading cycler-0.12.1-py3-none-any.whl (8.3 kB)\n",
      "Downloading fonttools-4.54.1-cp311-cp311-manylinux_2_17_x86_64.manylinux2014_x86_64.whl (4.9 MB)\n",
      "\u001b[2K   \u001b[90m━━━━━━━━━━━━━━━━━━━━━━━━━━━━━━━━━━━━━━━━\u001b[0m \u001b[32m4.9/4.9 MB\u001b[0m \u001b[31m20.9 MB/s\u001b[0m eta \u001b[36m0:00:00\u001b[0ma \u001b[36m0:00:01\u001b[0m\n",
      "\u001b[?25hDownloading kiwisolver-1.4.7-cp311-cp311-manylinux_2_17_x86_64.manylinux2014_x86_64.whl (1.4 MB)\n",
      "\u001b[2K   \u001b[90m━━━━━━━━━━━━━━━━━━━━━━━━━━━━━━━━━━━━━━━━\u001b[0m \u001b[32m1.4/1.4 MB\u001b[0m \u001b[31m17.1 MB/s\u001b[0m eta \u001b[36m0:00:00\u001b[0m\n",
      "\u001b[?25hDownloading pyparsing-3.1.4-py3-none-any.whl (104 kB)\n",
      "Installing collected packages: pyparsing, kiwisolver, fonttools, cycler, contourpy, matplotlib\n",
      "Successfully installed contourpy-1.3.0 cycler-0.12.1 fonttools-4.54.1 kiwisolver-1.4.7 matplotlib-3.9.2 pyparsing-3.1.4\n",
      "\u001b[33mWARNING: Running pip as the 'root' user can result in broken permissions and conflicting behaviour with the system package manager, possibly rendering your system unusable.It is recommended to use a virtual environment instead: https://pip.pypa.io/warnings/venv. Use the --root-user-action option if you know what you are doing and want to suppress this warning.\u001b[0m\u001b[33m\n",
      "\u001b[0mNote: you may need to restart the kernel to use updated packages.\n"
     ]
    }
   ],
   "source": [
    "pip install matplotlib"
   ]
  },
  {
   "cell_type": "code",
   "execution_count": 49,
   "id": "cb9dd8f7-04fb-4ffb-973a-fb99475077a3",
   "metadata": {},
   "outputs": [],
   "source": [
    "import os\n",
    "import time\n",
    "import copy\n",
    "import random\n",
    "import math\n",
    "import os\n",
    "import time\n",
    "import numpy as np\n",
    "import pandas as pd\n",
    "\n",
    "import torch\n",
    "import torch.nn as nn\n",
    "import torch.nn.functional as F\n",
    "from torch.utils.data import TensorDataset, DataLoader, Subset\n",
    "\n",
    "from torchvision import datasets\n",
    "from torchvision import transforms\n",
    "\n",
    "import matplotlib.pyplot as plt\n",
    "from PIL import Image\n",
    "\n",
    "import IPython"
   ]
  },
  {
   "cell_type": "code",
   "execution_count": 50,
   "id": "a75ba7f5-e07a-4140-83c9-fadd003ef345",
   "metadata": {},
   "outputs": [
    {
     "name": "stdout",
     "output_type": "stream",
     "text": [
      "cuda\n"
     ]
    }
   ],
   "source": [
    "device = 'cuda' if torch.cuda.is_available() else 'cpu'\n",
    "print(device)"
   ]
  },
  {
   "cell_type": "markdown",
   "id": "77595627",
   "metadata": {},
   "source": [
    "## Start Connecting"
   ]
  },
  {
   "cell_type": "code",
   "execution_count": 16,
   "id": "4beaea2b-77c8-4d91-b03b-35c1197410fc",
   "metadata": {},
   "outputs": [
    {
     "name": "stdout",
     "output_type": "stream",
     "text": [
      "Files already downloaded and verified\n",
      "Files already downloaded and verified\n"
     ]
    }
   ],
   "source": [
    "train_dataset_CIFAR10 = datasets.CIFAR10(root='data',\n",
    "                                       train=True,\n",
    "                                       transform=transforms.ToTensor(),\n",
    "                                       download=True)\n",
    "test_dataset_CIFAR10 = datasets.CIFAR10(root='data',\n",
    "                                      train=False,\n",
    "                                      transform=transforms.ToTensor(),\n",
    "                                      download=True)\n",
    "train_loader_CIFAR10 = DataLoader(dataset=train_dataset_CIFAR10,\n",
    "                                  batch_size=64,\n",
    "                                  shuffle=True)\n",
    "test_loader_CIFAR10 = DataLoader(dataset=test_dataset_CIFAR10,\n",
    "                                 batch_size=64,\n",
    "                                 shuffle=False)"
   ]
  },
  {
   "cell_type": "code",
   "execution_count": 69,
   "id": "b43730b0",
   "metadata": {},
   "outputs": [
    {
     "name": "stderr",
     "output_type": "stream",
     "text": [
      "/tmp/ipykernel_1036/2134898122.py:1: FutureWarning: You are using `torch.load` with `weights_only=False` (the current default value), which uses the default pickle module implicitly. It is possible to construct malicious pickle data which will execute arbitrary code during unpickling (See https://github.com/pytorch/pytorch/blob/main/SECURITY.md#untrusted-models for more details). In a future release, the default value for `weights_only` will be flipped to `True`. This limits the functions that could be executed during unpickling. Arbitrary objects will no longer be allowed to be loaded via this mode unless they are explicitly allowlisted by the user via `torch.serialization.add_safe_globals`. We recommend you start setting `weights_only=True` for any use case where you don't have full control of the loaded file. Please open an issue on GitHub for any issues related to this experimental feature.\n",
      "  data_tensor, label_tensor = torch.load('/workspace/Taein/jooyeong/data/cifar10_split_1.pt')\n"
     ]
    },
    {
     "ename": "RuntimeError",
     "evalue": "PytorchStreamReader failed reading zip archive: failed finding central directory",
     "output_type": "error",
     "traceback": [
      "\u001b[0;31m---------------------------------------------------------------------------\u001b[0m",
      "\u001b[0;31mRuntimeError\u001b[0m                              Traceback (most recent call last)",
      "Cell \u001b[0;32mIn[69], line 1\u001b[0m\n\u001b[0;32m----> 1\u001b[0m data_tensor, label_tensor \u001b[38;5;241m=\u001b[39m \u001b[43mtorch\u001b[49m\u001b[38;5;241;43m.\u001b[39;49m\u001b[43mload\u001b[49m\u001b[43m(\u001b[49m\u001b[38;5;124;43m'\u001b[39;49m\u001b[38;5;124;43m/workspace/Taein/jooyeong/data/cifar10_split_1.pt\u001b[39;49m\u001b[38;5;124;43m'\u001b[39;49m\u001b[43m)\u001b[49m\n\u001b[1;32m      3\u001b[0m \u001b[38;5;66;03m# 텐서 데이터를 데이터셋으로 변환\u001b[39;00m\n\u001b[1;32m      4\u001b[0m client_dataset \u001b[38;5;241m=\u001b[39m TensorDataset(torch\u001b[38;5;241m.\u001b[39mstack(data_tensor), torch\u001b[38;5;241m.\u001b[39mtensor(label_tensor))\n",
      "File \u001b[0;32m/opt/conda/lib/python3.11/site-packages/torch/serialization.py:1072\u001b[0m, in \u001b[0;36mload\u001b[0;34m(f, map_location, pickle_module, weights_only, mmap, **pickle_load_args)\u001b[0m\n\u001b[1;32m   1070\u001b[0m orig_position \u001b[38;5;241m=\u001b[39m opened_file\u001b[38;5;241m.\u001b[39mtell()\n\u001b[1;32m   1071\u001b[0m overall_storage \u001b[38;5;241m=\u001b[39m \u001b[38;5;28;01mNone\u001b[39;00m\n\u001b[0;32m-> 1072\u001b[0m \u001b[38;5;28;01mwith\u001b[39;00m \u001b[43m_open_zipfile_reader\u001b[49m\u001b[43m(\u001b[49m\u001b[43mopened_file\u001b[49m\u001b[43m)\u001b[49m \u001b[38;5;28;01mas\u001b[39;00m opened_zipfile:\n\u001b[1;32m   1073\u001b[0m     \u001b[38;5;28;01mif\u001b[39;00m _is_torchscript_zip(opened_zipfile):\n\u001b[1;32m   1074\u001b[0m         warnings\u001b[38;5;241m.\u001b[39mwarn(\u001b[38;5;124m\"\u001b[39m\u001b[38;5;124m'\u001b[39m\u001b[38;5;124mtorch.load\u001b[39m\u001b[38;5;124m'\u001b[39m\u001b[38;5;124m received a zip file that looks like a TorchScript archive\u001b[39m\u001b[38;5;124m\"\u001b[39m\n\u001b[1;32m   1075\u001b[0m                       \u001b[38;5;124m\"\u001b[39m\u001b[38;5;124m dispatching to \u001b[39m\u001b[38;5;124m'\u001b[39m\u001b[38;5;124mtorch.jit.load\u001b[39m\u001b[38;5;124m'\u001b[39m\u001b[38;5;124m (call \u001b[39m\u001b[38;5;124m'\u001b[39m\u001b[38;5;124mtorch.jit.load\u001b[39m\u001b[38;5;124m'\u001b[39m\u001b[38;5;124m directly to\u001b[39m\u001b[38;5;124m\"\u001b[39m\n\u001b[1;32m   1076\u001b[0m                       \u001b[38;5;124m\"\u001b[39m\u001b[38;5;124m silence this warning)\u001b[39m\u001b[38;5;124m\"\u001b[39m, \u001b[38;5;167;01mUserWarning\u001b[39;00m)\n",
      "File \u001b[0;32m/opt/conda/lib/python3.11/site-packages/torch/serialization.py:480\u001b[0m, in \u001b[0;36m_open_zipfile_reader.__init__\u001b[0;34m(self, name_or_buffer)\u001b[0m\n\u001b[1;32m    479\u001b[0m \u001b[38;5;28;01mdef\u001b[39;00m \u001b[38;5;21m__init__\u001b[39m(\u001b[38;5;28mself\u001b[39m, name_or_buffer) \u001b[38;5;241m-\u001b[39m\u001b[38;5;241m>\u001b[39m \u001b[38;5;28;01mNone\u001b[39;00m:\n\u001b[0;32m--> 480\u001b[0m     \u001b[38;5;28msuper\u001b[39m()\u001b[38;5;241m.\u001b[39m\u001b[38;5;21m__init__\u001b[39m(\u001b[43mtorch\u001b[49m\u001b[38;5;241;43m.\u001b[39;49m\u001b[43m_C\u001b[49m\u001b[38;5;241;43m.\u001b[39;49m\u001b[43mPyTorchFileReader\u001b[49m\u001b[43m(\u001b[49m\u001b[43mname_or_buffer\u001b[49m\u001b[43m)\u001b[49m)\n",
      "\u001b[0;31mRuntimeError\u001b[0m: PytorchStreamReader failed reading zip archive: failed finding central directory"
     ]
    }
   ],
   "source": [
    "data_tensor, label_tensor = torch.load('/workspace/Taein/jooyeong/data/cifar10_split_1.pt')\n",
    "\n",
    "# 텐서 데이터를 데이터셋으로 변환\n",
    "client_dataset = TensorDataset(torch.stack(data_tensor), torch.tensor(label_tensor))\n",
    "\n",
    "# DataLoader를 사용하여 데이터셋 로드\n",
    "client_loader = DataLoader(client_dataset, batch_size=32, shuffle=True)"
   ]
  },
  {
   "cell_type": "markdown",
   "id": "28e584bd-1ebe-45c1-be59-a2ba7c371862",
   "metadata": {},
   "source": [
    "# ResNet18 Model"
   ]
  },
  {
   "cell_type": "code",
   "execution_count": 37,
   "id": "8e772b42-28e7-4e9b-a0e4-9276fa287b3b",
   "metadata": {},
   "outputs": [],
   "source": [
    "def conv3x3(in_planes, out_planes, stride=1):\n",
    "    return nn.Conv2d(in_planes, out_planes, kernel_size=3, stride=stride, padding=1, bias=False)\n",
    "\n",
    "class BasicBlock_18(nn.Module):\n",
    "    expansion = 1\n",
    "    def __init__(self, inplanes, planes, stride=1, downsample=None):\n",
    "        super(BasicBlock_18, self).__init__()\n",
    "        self.conv_1 = conv3x3(inplanes, planes, stride)\n",
    "        self.bn_1 = nn.BatchNorm2d(planes)\n",
    "        self.relu = nn.ReLU(inplace=True)\n",
    "        self.conv_2 = conv3x3(planes, planes)\n",
    "        self.bn_2 = nn.BatchNorm2d(planes)\n",
    "        self.downsample = downsample\n",
    "        self.stride = stride\n",
    "\n",
    "    def forward(self, x):\n",
    "        residual = x\n",
    "\n",
    "        out = self.conv_1(x)\n",
    "        out = self.bn_1(out)\n",
    "        out = self.relu(out)\n",
    "\n",
    "        out = self.conv_2(out)\n",
    "        out = self.bn_2(out)\n",
    "\n",
    "        if self.downsample is not None:\n",
    "            residual = self.downsample(x)\n",
    "\n",
    "        out = out + residual\n",
    "        out = self.relu(out)\n",
    "\n",
    "        return out\n",
    "\n",
    "class ResNet_18(nn.Module):\n",
    "    def __init__(self, block, layers, num_classes, grayscale):\n",
    "        self.inplanes = 64\n",
    "        if grayscale:\n",
    "            in_dim = 1\n",
    "        else:\n",
    "            in_dim = 3\n",
    "\n",
    "        super(ResNet_18, self).__init__()\n",
    "        self.conv1g = nn.Conv2d(in_dim, 64, kernel_size=7, stride=2, padding=3, bias=False)\n",
    "        self.bng = nn.BatchNorm2d(64)\n",
    "        self.relu = nn.ReLU(inplace=True)\n",
    "        self.maxpool = nn.MaxPool2d(kernel_size=3, stride=2, padding=1)\n",
    "        self.layer1 = self._make_layer(block, 64, layers[0])\n",
    "        self.layer2 = self._make_layer(block, 128, layers[1], stride=2)\n",
    "        self.layer3 = self._make_layer(block, 256, layers[2], stride=2)\n",
    "        self.layer4 = self._make_layer(block, 512, layers[3], stride=2)\n",
    "        self.avgpool = nn.AvgPool2d(7, stride=1)\n",
    "        self.fc = nn.Linear(512*block.expansion, num_classes)\n",
    "\n",
    "        for m in self.modules():\n",
    "            if isinstance(m, nn.Conv2d):\n",
    "                n = m.kernel_size[0] * m.kernel_size[1] * m.out_channels\n",
    "                m.weight.data.normal_(0, (2. / n)**.5)\n",
    "            elif isinstance(m, nn.BatchNorm2d):\n",
    "                m.weight.data.fill_(1)\n",
    "                m.bias.data.zero_()\n",
    "\n",
    "    def _make_layer(self, block, planes, blocks, stride=1):\n",
    "        downsample = None\n",
    "        if stride != 1 or self.inplanes != planes * block.expansion:\n",
    "            downsample = nn.Sequential(\n",
    "                nn.Conv2d(self.inplanes, planes * block.expansion,\n",
    "                          kernel_size=1, stride=stride, bias=False),\n",
    "                nn.BatchNorm2d(planes*block.expansion),\n",
    "            )\n",
    "        layers = []\n",
    "        layers.append(block(self.inplanes, planes, stride, downsample))\n",
    "        self.inplanes = planes * block.expansion\n",
    "        for i in range(1, blocks):\n",
    "            layers.append(block(self.inplanes, planes))\n",
    "        return nn.Sequential(*layers)\n",
    "\n",
    "    def forward(self, x):\n",
    "        x = self.conv1g(x)\n",
    "        x = self.bng(x)\n",
    "        x = self.relu(x)\n",
    "        x = self.maxpool(x)\n",
    "\n",
    "        x = self.layer1(x)\n",
    "        x = self.layer2(x)\n",
    "        x = self.layer3(x)\n",
    "        x = self.layer4(x)\n",
    "\n",
    "        x_full = x.view(x.size(0), -1)\n",
    "        logits = self.fc(x_full)\n",
    "        #probas = F.softmax(logits, dim=1)\n",
    "        return logits, x_full\n",
    "\n",
    "def resnet18(num_classes, grayscale):\n",
    "    model = ResNet_18(block=BasicBlock_18, layers=[2,2,2,2], num_classes=num_classes, grayscale=grayscale)\n",
    "    return model"
   ]
  },
  {
   "cell_type": "markdown",
   "id": "6a4e6149-72b9-43e3-90fb-6c70928122a0",
   "metadata": {},
   "source": [
    "# Client Model Training"
   ]
  },
  {
   "cell_type": "code",
   "execution_count": 9,
   "id": "bef57d55-3b4f-476f-bc4f-96c2213b1bf7",
   "metadata": {},
   "outputs": [],
   "source": [
    "def avg_train_client(id, client_loader, global_model, num_local_epochs, lr):\n",
    "    local_model = copy.deepcopy(global_model)\n",
    "    local_model = local_model.to(device)\n",
    "    local_model.train()\n",
    "    optimizer = torch.optim.SGD(local_model.parameters(), lr=lr, momentum = 0.9)\n",
    "\n",
    "    for epoch in range(num_local_epochs):\n",
    "        print('    Epoch {}'.format(epoch+1))\n",
    "        for (i, (x,y)) in enumerate(client_loader):\n",
    "            x = x.to(device)\n",
    "            y = y.to(device)\n",
    "            optimizer.zero_grad()\n",
    "            local_out, _ = local_model(x)\n",
    "      \n",
    "            loss = criterion(local_out, y)\n",
    "            loss.backward()\n",
    "            optimizer.step()\n",
    "            \n",
    "\n",
    "    \n",
    "    \n",
    "    return local_model"
   ]
  },
  {
   "cell_type": "code",
   "execution_count": 19,
   "id": "ff498823-19fe-47ef-a777-cf880bec0718",
   "metadata": {},
   "outputs": [
    {
     "ename": "OSError",
     "evalue": "[Errno 9] Bad file descriptor",
     "output_type": "error",
     "traceback": [
      "\u001b[0;31m---------------------------------------------------------------------------\u001b[0m",
      "\u001b[0;31mOSError\u001b[0m                                   Traceback (most recent call last)",
      "Cell \u001b[0;32mIn[19], line 5\u001b[0m\n\u001b[1;32m      2\u001b[0m \u001b[38;5;28mround\u001b[39m \u001b[38;5;241m=\u001b[39m \u001b[38;5;241m0\u001b[39m\n\u001b[1;32m      3\u001b[0m \u001b[38;5;28;01mwhile\u001b[39;00m \u001b[38;5;28;01mTrue\u001b[39;00m:\n\u001b[0;32m----> 5\u001b[0m     data \u001b[38;5;241m=\u001b[39m \u001b[43ms\u001b[49m\u001b[38;5;241;43m.\u001b[39;49m\u001b[43mrecv\u001b[49m\u001b[43m(\u001b[49m\u001b[38;5;241;43m1024\u001b[39;49m\u001b[43m)\u001b[49m\n\u001b[1;32m      6\u001b[0m     \u001b[38;5;28;01mif\u001b[39;00m \u001b[38;5;28mint\u001b[39m(data\u001b[38;5;241m.\u001b[39mdecode(\u001b[38;5;124m'\u001b[39m\u001b[38;5;124mutf-8\u001b[39m\u001b[38;5;124m'\u001b[39m)) \u001b[38;5;241m!=\u001b[39m \u001b[38;5;28mround\u001b[39m:\n\u001b[1;32m      7\u001b[0m         \u001b[38;5;28mprint\u001b[39m(\u001b[38;5;124m\"\u001b[39m\u001b[38;5;124m라운드 동기 오류\u001b[39m\u001b[38;5;124m\"\u001b[39m)\n",
      "\u001b[0;31mOSError\u001b[0m: [Errno 9] Bad file descriptor"
     ]
    }
   ],
   "source": [
    "\n",
    "\n",
    "### 서버에게서 받은 global model.pt\n",
    "round = 0\n",
    "while True:\n",
    "    \n",
    "    data = s.recv(1024)\n",
    "    if int(data.decode('utf-8')) != round:\n",
    "        print(\"라운드 동기 오류\")\n",
    "        exit(1)\n",
    "    \n",
    "    client_model = torch.load('/model/global_model.pt')\n",
    "    #client_model = resnet18(10, False)\n",
    "    #client_model.load_state_dict(global_model)\n",
    "\n",
    "    \n",
    "    client_dataset = torch.load('/data/cifar10_split_1.pt')\n",
    "    client_loader = DataLoader(client_dataset, batch_size=32, shuffle=True)\n",
    "\n",
    "\n",
    "    criterion = nn.CrossEntropyLoss()\n",
    "\n",
    "    client_model_1 = avg_train_client(1, client_loader, client_model, 5, 0.01)\n",
    "    \n",
    "    file_path = f'/model/client_model_{client_num}.pt'\n",
    "    torch.save(client_model_1, file_path)\n",
    "\n",
    "    s.sendall(data.decode('utf-8'))\n",
    "    round += 1\n",
    "### 클라이언트는 서버에게 client_model_(i).pt를 준다."
   ]
  },
  {
   "cell_type": "code",
   "execution_count": null,
   "id": "c4ffbeac-e8b1-42a1-a754-5ab209f75d21",
   "metadata": {},
   "outputs": [],
   "source": [
    "# 1 라운드 동안.. 접속 완료\n",
    "# 서버에게 모델을 받음 \n",
    "# 함수 돌리고\n",
    "# 모델 저장\n",
    "# 서버에게 보냄"
   ]
  },
  {
   "cell_type": "code",
   "execution_count": 18,
   "id": "d0b20e4f",
   "metadata": {},
   "outputs": [
    {
     "name": "stdout",
     "output_type": "stream",
     "text": [
      "Trying to connect...\n",
      "서버에 연결할 수 없습니다: [Errno 111] Connection refused\n"
     ]
    }
   ],
   "source": [
    "import socket\n",
    "\n",
    "\n",
    "server_address = ('10.3.128.1', 9090)\n",
    "\n",
    "print(\"Trying to connect...\")\n",
    "\n",
    "with socket.socket(socket.AF_INET, socket.SOCK_STREAM) as s:\n",
    "    try:\n",
    "        # 서버에 연결 시도 \n",
    "        s.connect(server_address)\n",
    "        \n",
    "        # 연결 성공 시 서버 정보 출력\n",
    "        \n",
    "        print(f\"연결이 완료되었습니다. 서버 주소: {server_address[0]}, 포트: {server_address[1]}\")\n",
    "        print(f\"로컬 주소: {s.getsockname()}\")  # 클라이언트(로컬) 주소 출력\n",
    "        \n",
    "        # 서버로부터 숫자 수신\n",
    "        received_data = s.recv(1024)  # 서버로부터 최대 1024바이트를 수신\n",
    "        received_str = received_data.decode('utf-8')  # 받은 데이터를 문자열로 변환\n",
    "        \n",
    "        # 문자열 데이터를 정수로 변환\n",
    "        client_num = int(received_str)  # 문자열을 정수로 변환\n",
    "        print(f\"서버로부터 받은 숫자(정수): {client_num}\")  # 정수로 출력\n",
    "            \n",
    "    except socket.error as e:\n",
    "        # 연결 실패 시 오류 메시지 출력\n",
    "        print(f\"서버에 연결할 수 없습니다: {e}\")\n"
   ]
  },
  {
   "cell_type": "code",
   "execution_count": 40,
   "id": "054c3a74-5a71-4a43-9794-14c79c8b4cfa",
   "metadata": {},
   "outputs": [
    {
     "name": "stdout",
     "output_type": "stream",
     "text": [
      "서버와 연결되었습니다.\n",
      "test1 b'0'\n",
      "정보를 서버에게 보냈습니다.\n",
      "소켓 닫음\n"
     ]
    },
    {
     "ename": "KeyboardInterrupt",
     "evalue": "",
     "output_type": "error",
     "traceback": [
      "\u001b[0;31m---------------------------------------------------------------------------\u001b[0m",
      "\u001b[0;31mKeyboardInterrupt\u001b[0m                         Traceback (most recent call last)",
      "Cell \u001b[0;32mIn[40], line 26\u001b[0m\n\u001b[1;32m     23\u001b[0m     \u001b[38;5;28mprint\u001b[39m(\u001b[38;5;124mf\u001b[39m\u001b[38;5;124m\"\u001b[39m\u001b[38;5;124m소켓 오류 발생: \u001b[39m\u001b[38;5;132;01m{\u001b[39;00me\u001b[38;5;132;01m}\u001b[39;00m\u001b[38;5;124m\"\u001b[39m)\n\u001b[1;32m     25\u001b[0m \u001b[38;5;28;01mtry\u001b[39;00m:\n\u001b[0;32m---> 26\u001b[0m     data \u001b[38;5;241m=\u001b[39m \u001b[43ms\u001b[49m\u001b[38;5;241;43m.\u001b[39;49m\u001b[43mrecv\u001b[49m\u001b[43m(\u001b[49m\u001b[38;5;241;43m1024\u001b[39;49m\u001b[43m)\u001b[49m\n\u001b[1;32m     27\u001b[0m     data \u001b[38;5;241m=\u001b[39m \u001b[38;5;28mint\u001b[39m(data\u001b[38;5;241m.\u001b[39mdecode(\u001b[38;5;124m'\u001b[39m\u001b[38;5;124mutf-8\u001b[39m\u001b[38;5;124m'\u001b[39m))\n\u001b[1;32m     28\u001b[0m     \u001b[38;5;28;01mif\u001b[39;00m data \u001b[38;5;241m==\u001b[39m \u001b[38;5;241m1\u001b[39m:\n",
      "\u001b[0;31mKeyboardInterrupt\u001b[0m: "
     ]
    }
   ],
   "source": [
    "import socket\n",
    "\n",
    "server_address = ('10.3.129.180', 9090)\n",
    "\n",
    "try:\n",
    "    s = socket.socket(socket.AF_INET, socket.SOCK_STREAM)\n",
    "    s.connect(server_address)\n",
    "    print('서버와 연결되었습니다.')\n",
    "\n",
    "    while True:\n",
    "        try:\n",
    "            data = s.recv(1024)\n",
    "            print('test1', data)\n",
    "            if not data:\n",
    "                print('서버로부터 데이터를 수신할 수 없습니다.')\n",
    "                break\n",
    "\n",
    "            receive_round = int(data.decode('utf-8'))\n",
    "\n",
    "            s.sendall(str(1).encode())\n",
    "            print(\"정보를 서버에게 보냈습니다.\")\n",
    "        except socket.error as e:\n",
    "            print(f\"소켓 오류 발생: {e}\")\n",
    "\n",
    "        try:\n",
    "            data = s.recv(1024)\n",
    "            data = int(data.decode('utf-8'))\n",
    "            if data == 1:\n",
    "                print(\"클라이언트 학습 시작!\")\n",
    "                client_model = torch.load('/model/global_model.pt')\n",
    "\n",
    "                client_dataset = torch.load('/data/cifar10_split_1.pt')\n",
    "                client_loader = DataLoader(client_dataset, batch_size=32, shuffle=True)\n",
    "                criterion = nn.CrossEntropyLoss()\n",
    "                client_model_1 = avg_train_client(1, client_loader, client_model, 5, 0.01)\n",
    "\n",
    "                file_path = '/model/client_model_1.pt'\n",
    "                torch.save(client_model_1, file_path)\n",
    "                print(\"클라이언트 학습 완료. 클라이언트 모델 저장\")\n",
    "                s.sendall(str(1).encode())\n",
    "            else:\n",
    "                s.sendall(str(0).encode())\n",
    "        except socket.error as e:\n",
    "            print(f\"학습 오류 발생: {e}\")\n",
    "        \n",
    "except socket.error as e:\n",
    "    print(f\"서버와의 연결에 실패했습니다: {e}\")\n",
    "\n",
    "finally:\n",
    "    if s:\n",
    "        s.close()\n",
    "        print(\"소켓 닫음\")"
   ]
  },
  {
   "cell_type": "code",
   "execution_count": 19,
   "id": "1b374233-9c36-4116-919e-5cb4ecb7950a",
   "metadata": {},
   "outputs": [],
   "source": [
    "criterion = nn.CrossEntropyLoss()"
   ]
  },
  {
   "cell_type": "code",
   "execution_count": 48,
   "id": "4a4751b9-c1f5-4d4b-93f3-48ecb6ba93ba",
   "metadata": {},
   "outputs": [],
   "source": [
    "def log_message(message):\n",
    "    current_time = time.strftime(\"%M:%S\", time.gmtime())  # [mm:ss] 포맷으로 시간 가져오기\n",
    "    print(f\"[{current_time}] {message}\")"
   ]
  },
  {
   "cell_type": "code",
   "execution_count": null,
   "id": "1ca9b1d3-1edc-402d-92ab-6aa42c480c74",
   "metadata": {},
   "outputs": [
    {
     "name": "stdout",
     "output_type": "stream",
     "text": [
      "[36:09] 시작\n",
      "서버에 접속 중: ('10.3.129.180', 9090)\n",
      "client id : 1\n"
     ]
    },
    {
     "name": "stderr",
     "output_type": "stream",
     "text": [
      "/tmp/ipykernel_81/1312152969.py:20: FutureWarning: You are using `torch.load` with `weights_only=False` (the current default value), which uses the default pickle module implicitly. It is possible to construct malicious pickle data which will execute arbitrary code during unpickling (See https://github.com/pytorch/pytorch/blob/main/SECURITY.md#untrusted-models for more details). In a future release, the default value for `weights_only` will be flipped to `True`. This limits the functions that could be executed during unpickling. Arbitrary objects will no longer be allowed to be loaded via this mode unless they are explicitly allowlisted by the user via `torch.serialization.add_safe_globals`. We recommend you start setting `weights_only=True` for any use case where you don't have full control of the loaded file. Please open an issue on GitHub for any issues related to this experimental feature.\n",
      "  model = torch.load('/mnt/parameters/global_model.pt')\n"
     ]
    },
    {
     "name": "stdout",
     "output_type": "stream",
     "text": [
      "[36:09] Round 1  Client 1 Training Success\n",
      "[36:16] Round 2  Client 1 Training Success\n",
      "[36:23] Round 3  Client 1 Training Success\n",
      "[36:30] Round 4  Client 1 Training Success\n",
      "[36:37] Round 5  Client 1 Training Success\n",
      "[36:44] Round 6  Client 1 Training Success\n",
      "[36:51] Round 7  Client 1 Training Success\n",
      "[36:59] Round 8  Client 1 Training Success\n",
      "[37:05] Round 9  Client 1 Training Success\n",
      "[37:12] Round 10  Client 1 Training Success\n",
      "[37:19] Round 11  Client 1 Training Success\n",
      "[37:26] Round 12  Client 1 Training Success\n"
     ]
    }
   ],
   "source": [
    "import socket\n",
    "import time\n",
    "import multiprocessing\n",
    "\n",
    "server_address = ('10.3.129.180', 9090)\n",
    "s = socket.socket(socket.AF_INET, socket.SOCK_STREAM)\n",
    "s.connect(server_address)\n",
    "id = 0\n",
    "\n",
    "\n",
    "\n",
    "def getId():\n",
    "    data = s.recv(1024).decode('utf-8')\n",
    "    id = int(data)\n",
    "    print(f\"client id : {id}\")\n",
    "    return id\n",
    "\n",
    "def recvFile(fileName):\n",
    "    with open(fileName, 'wb') as f:\n",
    "        print(log_message(f\"Receiving from server {fileName}\"))\n",
    "        while True:\n",
    "            data = s.recv(4096)\n",
    "            if not data:\n",
    "                break\n",
    "            f.write(data)\n",
    "    log_message(f\"{fileName} received and saved\")\n",
    "\n",
    "def sendFile(fileName):\n",
    "    with open(fileName, 'rb') as f:\n",
    "        log_message(f\"Sending {fileName} to server\")\n",
    "        while True:\n",
    "            data = f.read(4096)\n",
    "            if not data:\n",
    "                break\n",
    "            s.sendall(data)\n",
    "    log_message(f\"{fileName} sent to server\")\n",
    "\n",
    "def Learning(id, round):\n",
    "\n",
    "\n",
    "    model = resnet18(10, False)\n",
    "    model = torch.load('/mnt/parameters/global_model.pt') # 이 부분 나중에 수정\n",
    "    model.to(device)\n",
    "\n",
    "\n",
    "    model.train()\n",
    "    optimizer = torch.optim.SGD(model.parameters(), lr=0.01)\n",
    "\n",
    "    for epoch in range(1):\n",
    "        log_message('Round {}  Client {} Training Success'.format(round, id))\n",
    "        for (i, (x,y)) in enumerate(train_loader_CIFAR10):\n",
    "            x = x.to(device)\n",
    "            y = y.to(device)\n",
    "            optimizer.zero_grad()\n",
    "            local_out, _ = model(x)\n",
    "      \n",
    "            loss = criterion(local_out, y)\n",
    "            loss.backward()\n",
    "            optimizer.step()\n",
    "\n",
    "    torch.save(model, f'output/client_model_{id}.pt')\n",
    "    \n",
    "def getUpdatedPT(id, round): # 여기서 end 메시지도 받음\n",
    "    recvFile(f\"client_{id}_global_model.pt\")\n",
    "\n",
    "    if(msg==\"end\"):\n",
    "        return \"end\"\n",
    "    \n",
    "    Learning(id, round)\n",
    "    sendFile(f\"output/client_model_{id}.pt\")\n",
    "    msg = \"done learning\\n\"\n",
    "    s.sendall(msg.encode('utf-8'))\n",
    "\n",
    "\n",
    "def run():\n",
    "    log_message(\"시작\")\n",
    "    print(f\"서버에 접속 중: {s.getpeername()}\")\n",
    "    id = getId()\n",
    "    round = 1\n",
    "    while True:\n",
    "        \n",
    "        t = getUpdatedPT(id, round)\n",
    "        round += 1\n",
    "        if(t==\"end\"):\n",
    "            log_message(\"종료 코드 수신\")\n",
    "            s.sendall(msg.encode('utf-8'))\n",
    "            break\n",
    "\n",
    "\n",
    "if __name__ == \"__main__\":\n",
    "    run()"
   ]
  },
  {
   "cell_type": "code",
   "execution_count": null,
   "id": "09840ab8-94af-414a-8461-f3f19800afe6",
   "metadata": {},
   "outputs": [],
   "source": []
  }
 ],
 "metadata": {
  "kernelspec": {
   "display_name": "Python 3 (ipykernel)",
   "language": "python",
   "name": "python3"
  },
  "language_info": {
   "codemirror_mode": {
    "name": "ipython",
    "version": 3
   },
   "file_extension": ".py",
   "mimetype": "text/x-python",
   "name": "python",
   "nbconvert_exporter": "python",
   "pygments_lexer": "ipython3",
   "version": "3.11.9"
  }
 },
 "nbformat": 4,
 "nbformat_minor": 5
}
