{
 "cells": [
  {
   "cell_type": "code",
   "execution_count": 6,
   "metadata": {},
   "outputs": [
    {
     "name": "stdout",
     "output_type": "stream",
     "text": [
      "서버에 연결되었습니다!\n",
      "파일을 전송 중입니다...\n",
      "파일 전송이 완료되었습니다!\n"
     ]
    }
   ],
   "source": [
    "import socket\n",
    "\n",
    "# 서버 정보\n",
    "SERVER_HOST = '127.0.0.1'  # 서버 주소 (localhost)\n",
    "SERVER_PORT = 9090  # 서버 포트\n",
    "\n",
    "# 파일 경로 (전송할 OptiFine 파일)\n",
    "file_path = 'OptiFine_1.21.1_HD_U_J1.jar'\n",
    "\n",
    "# 소켓 생성 및 서버에 연결\n",
    "client_socket = socket.socket(socket.AF_INET, socket.SOCK_STREAM)\n",
    "client_socket.connect((SERVER_HOST, SERVER_PORT))\n",
    "\n",
    "print(\"서버에 연결되었습니다!\")\n",
    "\n",
    "# 파일 전송\n",
    "with open(file_path, 'rb') as file:\n",
    "    print(\"파일을 전송 중입니다...\")\n",
    "    data = file.read(4096)\n",
    "    while data:\n",
    "        client_socket.sendall(data)\n",
    "        data = file.read(4096)\n",
    "\n",
    "print(\"파일 전송이 완료되었습니다!\")\n",
    "\n",
    "# 소켓 닫기\n",
    "client_socket.close()\n"
   ]
  }
 ],
 "metadata": {
  "kernelspec": {
   "display_name": "Python 3",
   "language": "python",
   "name": "python3"
  },
  "language_info": {
   "codemirror_mode": {
    "name": "ipython",
    "version": 3
   },
   "file_extension": ".py",
   "mimetype": "text/x-python",
   "name": "python",
   "nbconvert_exporter": "python",
   "pygments_lexer": "ipython3",
   "version": "3.11.4"
  }
 },
 "nbformat": 4,
 "nbformat_minor": 2
}
